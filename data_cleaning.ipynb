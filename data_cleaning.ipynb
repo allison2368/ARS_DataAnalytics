{
 "cells": [
  {
   "cell_type": "markdown",
   "metadata": {},
   "source": [
    "# Aggie Reuse Store FQ '21: Sales Data Cleaning\n",
    "\n",
    "Read-in entire sales data for the quarter, standardize and output a clean .csv for other analyses."
   ]
  },
  {
   "cell_type": "code",
   "execution_count": 1,
   "metadata": {},
   "outputs": [],
   "source": [
    "# Libraries\n",
    "import pandas as pd"
   ]
  },
  {
   "cell_type": "code",
   "execution_count": 2,
   "metadata": {},
   "outputs": [
    {
     "data": {
      "text/html": [
       "<div>\n",
       "<style scoped>\n",
       "    .dataframe tbody tr th:only-of-type {\n",
       "        vertical-align: middle;\n",
       "    }\n",
       "\n",
       "    .dataframe tbody tr th {\n",
       "        vertical-align: top;\n",
       "    }\n",
       "\n",
       "    .dataframe thead th {\n",
       "        text-align: right;\n",
       "    }\n",
       "</style>\n",
       "<table border=\"1\" class=\"dataframe\">\n",
       "  <thead>\n",
       "    <tr style=\"text-align: right;\">\n",
       "      <th></th>\n",
       "      <th>Date</th>\n",
       "      <th>Item</th>\n",
       "      <th>Total Price</th>\n",
       "    </tr>\n",
       "  </thead>\n",
       "  <tbody>\n",
       "    <tr>\n",
       "      <th>0</th>\n",
       "      <td>10/1/21</td>\n",
       "      <td>short skirt</td>\n",
       "      <td>$3.00</td>\n",
       "    </tr>\n",
       "    <tr>\n",
       "      <th>1</th>\n",
       "      <td>10/1/21</td>\n",
       "      <td>blouses</td>\n",
       "      <td>$5.00</td>\n",
       "    </tr>\n",
       "    <tr>\n",
       "      <th>2</th>\n",
       "      <td>10/1/21</td>\n",
       "      <td>short sleeve</td>\n",
       "      <td>$3.00</td>\n",
       "    </tr>\n",
       "    <tr>\n",
       "      <th>3</th>\n",
       "      <td>10/1/21</td>\n",
       "      <td>earrings (pair)</td>\n",
       "      <td>$3.00</td>\n",
       "    </tr>\n",
       "    <tr>\n",
       "      <th>4</th>\n",
       "      <td>10/1/21</td>\n",
       "      <td>blouses</td>\n",
       "      <td>$5.00</td>\n",
       "    </tr>\n",
       "  </tbody>\n",
       "</table>\n",
       "</div>"
      ],
      "text/plain": [
       "      Date             Item Total Price\n",
       "0  10/1/21      short skirt      $3.00 \n",
       "1  10/1/21          blouses      $5.00 \n",
       "2  10/1/21     short sleeve      $3.00 \n",
       "3  10/1/21  earrings (pair)      $3.00 \n",
       "4  10/1/21          blouses      $5.00 "
      ]
     },
     "execution_count": 2,
     "metadata": {},
     "output_type": "execute_result"
    }
   ],
   "source": [
    "# Dataframe\n",
    "df = pd.read_csv('./entire.csv')\n",
    "df.head()"
   ]
  },
  {
   "cell_type": "code",
   "execution_count": 3,
   "metadata": {},
   "outputs": [
    {
     "name": "stdout",
     "output_type": "stream",
     "text": [
      "['UCD t-shirts', 'blouse', 'blouses', 'botique item', 'boutique Item', 'boutique item', 'button down shirt', 'button-down work shirt', 'costume', 'dresses (all)', 'dresses(all)', 'earing (pair)', 'earings', 'earring (pair)', 'earrings (pair)', 'erasers', 'flashlight', 'glue sticks', 'hair clip', 'handbags', 'heels', 'highlighters', 'jackets', 'jeans', 'leggings', 'long skirt', 'long sleeve shirt', 'long sleeve shirts', 'notebook', 'notepads', 'pants', 'pencil sharpener', 'shirt', 'shoes', 'short skirt', 'short sleeve', 'short sleeve tops', 'shorts', 'slacks', 'sneakers', 'sun hat', 'sunglasses', 'sweater/cardigan', 'sweaters/cardigans', 't-shirt', 'tank-top', 'vase', 'water bottle', 'water bottles', 'windbreakers']\n"
     ]
    }
   ],
   "source": [
    "# View categorical attributes\n",
    "print(sorted(df.Item.unique()))"
   ]
  },
  {
   "cell_type": "code",
   "execution_count": 4,
   "metadata": {},
   "outputs": [
    {
     "name": "stdout",
     "output_type": "stream",
     "text": [
      "['Jackets', 'UCD t-shirts', 'blouses', 'boutique item', 'dresses (all)', 'earring (pair)', 'erasers', 'flannels', 'glue sticks', 'hair clip', 'handbags', 'heels', 'highlighters', 'jeans', 'leggings', 'long skirts', 'long sleeve shirts', 'miscellaneous items', 'notebook', 'notepad', 'pants', 'pencil sharpener', 'shirt', 'shoes', 'short skirts', 'shorts', 'slacks', 'sneakers', 'sun hat', 'sunglasses', 'sweater/cardigan', 'sweaters/cardigans', 't-shirt', 'tank-top', 'vase', 'water bottles', 'windbreakers']\n"
     ]
    }
   ],
   "source": [
    "# Create dictionary to remap 'Item' column to match Main Price List\n",
    "d = {'blouse': 'blouses', \n",
    "     'botique item': 'boutique item',\n",
    "     'boutique Item': 'boutique item', \n",
    "     'button down shirt': 'flannels', # button down shirts aren't on Main Price List?\n",
    "     'button-down work shirt': 'flannels',\n",
    "     'costume': 'boutique item', # costume (3 instances) also not on Main Price List\n",
    "     'dresses(all)': 'dresses (all)',\n",
    "     'earing (pair)':'earring (pair)',\n",
    "     'earings':'earring (pair)',\n",
    "     'earrings (pair)':'earring (pair)',\n",
    "     'flashlight': 'miscellaneous items',\n",
    "     'jackets': 'Jackets',\n",
    "     'long skirt': 'long skirts',\n",
    "     'long sleeve shirt': 'long sleeve shirts',\n",
    "     'notepads': 'notepad',\n",
    "     'short skirt': 'short skirts',\n",
    "     'short sleeve': 't-shirt',\n",
    "     'short sleeve tops': 't-shirt',\n",
    "     'water bottle': 'water bottles'}\n",
    "\n",
    "df.replace({'Item': d}, inplace=True)\n",
    "print(sorted(df.Item.unique()))"
   ]
  },
  {
   "cell_type": "code",
   "execution_count": null,
   "metadata": {},
   "outputs": [],
   "source": [
    "# TODO: read-in data dictionary and merge with 'Category' attribute, see if prices are correct, etc."
   ]
  }
 ],
 "metadata": {
  "kernelspec": {
   "display_name": "Python 3",
   "language": "python",
   "name": "python3"
  },
  "language_info": {
   "codemirror_mode": {
    "name": "ipython",
    "version": 3
   },
   "file_extension": ".py",
   "mimetype": "text/x-python",
   "name": "python",
   "nbconvert_exporter": "python",
   "pygments_lexer": "ipython3",
   "version": "3.8.2"
  }
 },
 "nbformat": 4,
 "nbformat_minor": 4
}
